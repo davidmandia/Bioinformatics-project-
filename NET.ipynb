{
 "cells": [
  {
   "cell_type": "code",
   "execution_count": 3,
   "metadata": {
    "collapsed": false
   },
   "outputs": [
   ],
   "source": [
    "import networkx as nx\n",
    "import matplotlib.pyplot as plt\n",
    "import pandas as pd"
   ]
  },
  {
   "cell_type": "code",
   "execution_count": 4,
   "metadata": {
    "collapsed": false
   },
   "outputs": [
    {
     "data": {
      "text/plain": [
       "51761"
      ]
     },
     "execution_count": 4,
     "metadata": {
     },
     "output_type": "execute_result"
    }
   ],
   "source": [
    "filtered_data = pd.read_csv(\"microRNA_to_disease_no duplicates.csv\", usecols=[\"miRNA\", \"Gene\", \"diseaseName\"])\n",
    "len(filtered_data)"
   ]
  },
  {
   "cell_type": "code",
   "execution_count": 6,
   "metadata": {
    "collapsed": false
   },
   "outputs": [
    {
     "name": "stdout",
     "output_type": "stream",
     "text": [
      "Node count: 3925\n",
      "Edge count: 20828\n"
     ]
    },
    {
     "name": "stdout",
     "output_type": "stream",
     "text": [
      "Number of bridge edges: 1116\n",
      "The most connected node (hub) is ZEB2 with 209 connections.\n"
     ]
    },
    {
     "name": "stdout",
     "output_type": "stream",
     "text": [
      "The most important bottleneck node is PTEN with betweenness centrality of 2.504246500486038e-05.\n",
      "The most influential node is ZEB2 with closeness centrality of 0.053007135575942915.\n"
     ]
    }
   ],
   "source": [
    "# Create a directed graph\n",
    "G = nx.DiGraph()\n",
    "\n",
    "# Add edges to the graph\n",
    "for _, row in filtered_data.iterrows():\n",
    "    G.add_edge(row['miRNA'], row['Gene'])\n",
    "    G.add_edge(row['Gene'], row['diseaseName'])\n",
    "\n",
    "# 1) Node and edge count\n",
    "node_count = len(G.nodes)\n",
    "edge_count = len(G.edges)\n",
    "print(f\"Node count: {node_count}\")\n",
    "print(f\"Edge count: {edge_count}\")\n",
    "\n",
    "# 2) Identify bridge edges\n",
    "miRNA_disease_network_undirected = G.to_undirected()\n",
    "bridge_edges = list(nx.bridges(miRNA_disease_network_undirected))\n",
    "bridge_count = len(bridge_edges)\n",
    "print(f\"Number of bridge edges: {bridge_count}\")\n",
    "\n",
    "# 3) Find the most connected node (hub)\n",
    "hub_node, hub_degree = max(G.degree, key=lambda x: x[1])\n",
    "print(f\"The most connected node (hub) is {hub_node} with {hub_degree} connections.\")\n",
    "\n",
    "# 4) Find the most important bottleneck node (highest betweenness centrality)\n",
    "betweenness_centrality = nx.betweenness_centrality(G)\n",
    "bottleneck_node = max(betweenness_centrality, key=betweenness_centrality.get)\n",
    "print(f\"The most important bottleneck node is {bottleneck_node} with betweenness centrality of {betweenness_centrality[bottleneck_node]}.\")\n",
    "\n",
    "# 5) Find the most influential node (highest closeness centrality)\n",
    "closeness_centrality = nx.closeness_centrality(G)\n",
    "influential_node = max(closeness_centrality, key=closeness_centrality.get)\n",
    "print(f\"The most influential node is {influential_node} with closeness centrality of {closeness_centrality[influential_node]}.\")"
   ]
  },
  {
   "cell_type": "code",
   "execution_count": 0,
   "metadata": {
    "collapsed": false
   },
   "outputs": [
   ],
   "source": [
   ]
  }
 ],
 "metadata": {
  "kernelspec": {
   "argv": [
    "/usr/bin/python3",
    "-m",
    "ipykernel",
    "--HistoryManager.enabled=False",
    "--matplotlib=inline",
    "-c",
    "%config InlineBackend.figure_formats = set(['retina'])\nimport matplotlib; matplotlib.rcParams['figure.figsize'] = (12, 7)",
    "-f",
    "{connection_file}"
   ],
   "display_name": "Python 3 (system-wide)",
   "env": {
   },
   "language": "python",
   "metadata": {
    "cocalc": {
     "description": "Python 3 programming language",
     "priority": 100,
     "url": "https://www.python.org/"
    }
   },
   "name": "python3",
   "resource_dir": "/ext/jupyter/kernels/python3"
  }
 },
 "nbformat": 4,
 "nbformat_minor": 4
}